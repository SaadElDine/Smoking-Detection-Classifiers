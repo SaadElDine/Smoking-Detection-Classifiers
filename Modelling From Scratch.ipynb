{
 "cells": [
  {
   "cell_type": "markdown",
   "id": "71ad557e",
   "metadata": {},
   "source": [
    "# Required Libraries"
   ]
  },
  {
   "cell_type": "code",
   "execution_count": 103,
   "id": "7bd001b3",
   "metadata": {},
   "outputs": [],
   "source": [
    "import random\n",
    "import itertools\n",
    "import numpy as np\n",
    "import pandas as pd\n",
    "import seaborn as sns\n",
    "from scipy import stats\n",
    "from scipy.stats import zscore\n",
    "import matplotlib.pyplot as plt\n",
    "from sklearn.decomposition import PCA\n",
    "from sklearn.tree import DecisionTreeClassifier\n",
    "from sklearn.preprocessing import MinMaxScaler, StandardScaler\n",
    "from sklearn.ensemble import BaggingClassifier\n",
    "from sklearn.tree import DecisionTreeClassifier\n",
    "from sklearn.preprocessing import PolynomialFeatures\n",
    "from sklearn.model_selection import train_test_split\n",
    "from sklearn.metrics import accuracy_score, classification_report, confusion_matrix, make_scorer\n",
    "from sklearn.model_selection import GridSearchCV, RandomizedSearchCV\n",
    "from sklearn.datasets import make_classification\n",
    "from skopt import BayesSearchCV\n",
    "from skopt.space import Real, Categorical, Integer"
   ]
  },
  {
   "cell_type": "code",
   "execution_count": 104,
   "id": "2f193f76",
   "metadata": {},
   "outputs": [],
   "source": [
    "X_train = pd.read_csv(\"X_train.csv\")\n",
    "X_valid = pd.read_csv(\"X_valid.csv\")\n",
    "X_test = pd.read_csv(\"X_test.csv\")\n",
    "y_train = pd.read_csv(\"y_train.csv\")\n",
    "y_valid = pd.read_csv(\"y_valid.csv\")\n",
    "y_test = pd.read_csv(\"y_test.csv\")\n",
    "# Reshape the target arrays\n",
    "y_train = np.ravel(y_train)\n",
    "y_val = np.ravel(y_valid)\n",
    "y_test = np.ravel(y_test)"
   ]
  },
  {
   "cell_type": "code",
   "execution_count": 105,
   "id": "2fafb952",
   "metadata": {},
   "outputs": [
    {
     "name": "stdout",
     "output_type": "stream",
     "text": [
      "Training Data - X_train shape: (101923, 25)\n",
      "Training Data - y_train shape: (101923,)\n",
      "Cross Validation Data - X_val shape: (25481, 25)\n",
      "Cross Validation Data - y_val shape: (25481, 1)\n",
      "Testing Data - X_test shape: (31852, 25)\n",
      "Testing Data - y_test shape: (31852,)\n"
     ]
    }
   ],
   "source": [
    "# Display the shapes of the resulting sets\n",
    "print(\"Training Data - X_train shape:\", X_train.shape)\n",
    "print(\"Training Data - y_train shape:\", y_train.shape)\n",
    "print(\"Cross Validation Data - X_val shape:\", X_valid.shape)\n",
    "print(\"Cross Validation Data - y_val shape:\", y_valid.shape)\n",
    "print(\"Testing Data - X_test shape:\", X_test.shape)\n",
    "print(\"Testing Data - y_test shape:\", y_test.shape)"
   ]
  },
  {
   "cell_type": "code",
   "execution_count": 106,
   "id": "9257d36f",
   "metadata": {},
   "outputs": [],
   "source": [
    "def evaluate_model(model, X_test, y_test):\n",
    "    y_pred = model.predict(X_test)\n",
    "    accuracy = accuracy_score(y_test, y_pred)\n",
    "    return accuracy"
   ]
  },
  {
   "cell_type": "markdown",
   "id": "d0ee56d3",
   "metadata": {},
   "source": [
    "# Bagging"
   ]
  },
  {
   "cell_type": "code",
   "execution_count": 13,
   "id": "e0d8e45f",
   "metadata": {},
   "outputs": [],
   "source": [
    "class BaggingClassifier:\n",
    "    def __init__(self, n_estimators=50, max_features=0.7, max_depth=None):\n",
    "        self.n_estimators = n_estimators\n",
    "        self.max_features = max_features\n",
    "        self.max_depth = max_depth\n",
    "        self.estimators = []\n",
    "        \n",
    "    def fit(self, X, y):\n",
    "        for _ in range(self.n_estimators):\n",
    "            indices = np.random.choice(len(X), len(X), replace=True)\n",
    "            X_bootstrap = X.iloc[indices]\n",
    "            y_bootstrap = y[indices]\n",
    "            estimator = DecisionTreeClassifier(max_features=self.max_features, max_depth=self.max_depth).fit(X_bootstrap, y_bootstrap)\n",
    "            self.estimators.append(estimator)\n",
    "            \n",
    "    def predict(self, X):\n",
    "        # Make predictions using all the base classifiers\n",
    "        predictions = [estimator.predict(X) for estimator in self.estimators]\n",
    "        # Aggregate predictions using majority voting\n",
    "        majority_votes = np.apply_along_axis(lambda x: np.bincount(x).argmax(), axis=0, arr=predictions)\n",
    "\n",
    "        return majority_votes\n",
    "    \n",
    "    def get_params(self, deep=True):\n",
    "        return {\n",
    "            'n_estimators': self.n_estimators,\n",
    "            'max_features': self.max_features,\n",
    "            'max_depth': self.max_depth\n",
    "        }\n",
    "\n",
    "    def set_params(self, **params):\n",
    "        for param, value in params.items():\n",
    "            setattr(self, param, value)\n",
    "        return self"
   ]
  },
  {
   "cell_type": "code",
   "execution_count": 6,
   "id": "2bb03c05",
   "metadata": {},
   "outputs": [
    {
     "name": "stdout",
     "output_type": "stream",
     "text": [
      "Accuracy on the validation set (Bagging): 77.34%\n"
     ]
    }
   ],
   "source": [
    "bagging_classifier_basic = BaggingClassifier()\n",
    "# Fit BaggingClassifier on training data\n",
    "bagging_classifier_basic.fit(X_train, y_train)\n",
    "\n",
    "# Predict on validation set\n",
    "y_pred = bagging_classifier_basic.predict(X_valid)\n",
    "# Evaluate accuracy\n",
    "accuracy = accuracy_score(y_valid, y_pred)\n",
    "print(f\"Accuracy on the validation set (Bagging): {accuracy:.2%}\")"
   ]
  },
  {
   "cell_type": "code",
   "execution_count": 76,
   "id": "03abceab",
   "metadata": {},
   "outputs": [],
   "source": [
    "class AdaBoostClassifier:\n",
    "    def __init__(self, n_estimators=50, learning_rate=1.0):\n",
    "        self.n_estimators = n_estimators\n",
    "        self.learning_rate = learning_rate\n",
    "        self.estimators = []\n",
    "        self.weights = []\n",
    "\n",
    "    def fit(self, X, y):\n",
    "        # Initialize Equal Weights \n",
    "        self.weights = np.ones(len(X)) / len(X)\n",
    "        for _ in range(self.n_estimators):\n",
    "            # Train a decision stump\n",
    "            estimator = DecisionTreeClassifier(max_depth=1).fit(X, y, sample_weight=self.weights)\n",
    "  \n",
    "            # Compute Error rate\n",
    "            predictions = estimator.predict(X)\n",
    "            incorrect = (predictions != y) \n",
    "            error_rate = np.dot(self.weights, incorrect)\n",
    " \n",
    "            # Compute Alpha_t\n",
    "            alpha = self.learning_rate * np.log((1 - error_rate) / error_rate)\n",
    "            self.estimators.append((estimator, alpha))\n",
    " \n",
    "            # Reweighting\n",
    "            self.weights *= np.exp(-y * alpha * predictions)\n",
    "        \n",
    "            # Normalization >> SUMMATION = 1\n",
    "            self.weights /= np.sum(self.weights)\n",
    "\n",
    "    def predict(self, X):\n",
    "        predictions = np.empty(len(X))\n",
    "        for estimator, alpha in self.estimators:\n",
    "            predictions += alpha * estimator.predict(X)\n",
    "        return np.sign(predictions)\n",
    "    \n",
    "    def get_params(self, deep=True):\n",
    "        return {'n_estimators': self.n_estimators, 'learning_rate': self.learning_rate}\n",
    "\n",
    "    def set_params(self, **params):\n",
    "        if 'n_estimators' in params:\n",
    "            self.n_estimators = params['n_estimators']\n",
    "        if 'learning_rate' in params:\n",
    "            self.learning_rate = params['learning_rate']\n",
    "        return self"
   ]
  },
  {
   "cell_type": "code",
   "execution_count": 40,
   "id": "8b5e0d4a",
   "metadata": {},
   "outputs": [
    {
     "name": "stdout",
     "output_type": "stream",
     "text": [
      "Accuracy on the validation set (Boosting): 73.42%\n"
     ]
    }
   ],
   "source": [
    "boosting_classifier_basic = AdaBoostClassifier()\n",
    "\n",
    "# Fit BaggingClassifier on training data\n",
    "boosting_classifier_basic.fit(X_train, y_train)\n",
    "\n",
    "# Predict on validation set\n",
    "y_pred = boosting_classifier_basic.predict(X_valid)\n",
    "# Evaluate accuracy\n",
    "accuracy = accuracy_score(y_valid, y_pred)\n",
    "print(f\"Accuracy on the validation set (Boosting): {accuracy:.2%}\")"
   ]
  },
  {
   "cell_type": "code",
   "execution_count": 107,
   "id": "53f032a0",
   "metadata": {},
   "outputs": [],
   "source": [
    "class RandomForestClassifier:\n",
    "    def __init__(self, n_estimators=500, max_features='auto', max_depth=20, min_samples_split=10, min_samples_leaf=1):\n",
    "        self.n_estimators = n_estimators\n",
    "        self.max_features = max_features\n",
    "        self.min_samples_split = min_samples_split\n",
    "        self.min_samples_leaf = min_samples_leaf\n",
    "        self.max_depth = max_depth\n",
    "        self.estimators = []\n",
    "        \n",
    "    def fit(self, X, y):\n",
    "        for _ in range(self.n_estimators):\n",
    "            indices = np.random.choice(len(X), len(X), replace=True)\n",
    "            X_bootstrap = X.iloc[indices]\n",
    "            y_bootstrap = y[indices]\n",
    "            estimator = DecisionTreeClassifier(max_features=self.max_features, max_depth=self.max_depth, min_samples_split = self.min_samples_split, min_samples_leaf = self.min_samples_leaf).fit(X_bootstrap, y_bootstrap)\n",
    "            self.estimators.append(estimator)\n",
    "            \n",
    "    def predict(self, X):\n",
    "        # Make predictions using all the base classifiers\n",
    "        predictions = [estimator.predict(X) for estimator in self.estimators]\n",
    "        # Aggregate predictions using majority voting\n",
    "        majority_votes = np.apply_along_axis(lambda x: np.bincount(x).argmax(), axis=0, arr=predictions)\n",
    "        return majority_votes\n",
    "    \n",
    "    def get_params(self, deep=True):\n",
    "        return {\n",
    "            'n_estimators': self.n_estimators,\n",
    "            'max_features': self.max_features,\n",
    "            'min_samples_split': self.min_samples_split,\n",
    "            'min_samples_leaf': self.min_samples_leaf,\n",
    "            'max_depth': self.max_depth\n",
    "        }\n",
    "\n",
    "    def set_params(self, **params):\n",
    "        for param, value in params.items():\n",
    "            setattr(self, param, value)\n",
    "        return self"
   ]
  },
  {
   "cell_type": "code",
   "execution_count": 85,
   "id": "54beca1e",
   "metadata": {},
   "outputs": [
    {
     "name": "stdout",
     "output_type": "stream",
     "text": [
      "Accuracy on the validation set (Random Forest): 77.68%\n"
     ]
    }
   ],
   "source": [
    "random_forest_classifier_basic = RandomForestClassifier()\n",
    "\n",
    "# Fit BaggingClassifier on training data\n",
    "random_forest_classifier_basic.fit(X_train, y_train)\n",
    "\n",
    "# Predict on validation set\n",
    "y_pred = random_forest_classifier_basic.predict(X_valid)\n",
    "# Evaluate accuracy\n",
    "accuracy = accuracy_score(y_valid, y_pred)\n",
    "print(f\"Accuracy on the validation set (Random Forest): {accuracy:.2%}\")"
   ]
  },
  {
   "cell_type": "markdown",
   "id": "dd2265db",
   "metadata": {},
   "source": [
    "# Hyperparameters Tuning"
   ]
  },
  {
   "cell_type": "markdown",
   "id": "d6fb8864",
   "metadata": {},
   "source": [
    "## Grid Search"
   ]
  },
  {
   "cell_type": "code",
   "execution_count": 91,
   "id": "bd56733c",
   "metadata": {},
   "outputs": [],
   "source": [
    "def grid_search_tuning(model, param_grid, X_train, y_train):\n",
    "    scoring = make_scorer(accuracy_score)  # Use accuracy as the scoring metric\n",
    "    grid_search = GridSearchCV(model, param_grid, cv=5, n_jobs=-1, scoring=scoring)\n",
    "    grid_search.fit(X_train, y_train)\n",
    "    return grid_search.best_estimator_"
   ]
  },
  {
   "cell_type": "markdown",
   "id": "17401ae7",
   "metadata": {},
   "source": [
    "### Bagging"
   ]
  },
  {
   "cell_type": "code",
   "execution_count": 7,
   "id": "a650f7c1",
   "metadata": {},
   "outputs": [],
   "source": [
    "# Define parameter grids for Grid Search \n",
    "param_grid = {\n",
    "    'n_estimators': [20, 50, 100, 200],\n",
    "    'max_features': [0.5, 0.7, 0.9],\n",
    "    'max_depth': [None, 10, 20]\n",
    "}"
   ]
  },
  {
   "cell_type": "code",
   "execution_count": 8,
   "id": "526cd1c4",
   "metadata": {},
   "outputs": [
    {
     "name": "stdout",
     "output_type": "stream",
     "text": [
      "Best hyperparameters for Bagging Classifier (Grid Search):\n",
      "{'n_estimators': 50, 'max_features': 0.7, 'max_depth': None}\n",
      "--------------------------------------------------------------------------\n",
      "Bagging Classifier Grid Search Accuracy: 77.63%\n"
     ]
    }
   ],
   "source": [
    "# Create an instance\n",
    "bagging_clf = BaggingClassifier()\n",
    "\n",
    "# Perform hyperparameter tuning using Grid Search\n",
    "best_bagging_model_gs = grid_search_tuning(bagging_clf, param_grid, X_train, y_train)\n",
    "\n",
    "# Print best hyperparameters for Grid Search\n",
    "print(\"Best hyperparameters for Bagging Classifier (Grid Search):\")\n",
    "print(best_bagging_model_gs.get_params())\n",
    "print(\"--------------------------------------------------------------------------\")\n",
    "\n",
    "# Print Accuracy on test set\n",
    "bagging_accuracy_gs = evaluate_model(best_bagging_model_gs, X_valid, y_valid)\n",
    "print(f\"Bagging Classifier Grid Search Accuracy: {bagging_accuracy_gs:.2%}\")"
   ]
  },
  {
   "cell_type": "markdown",
   "id": "fc302a71",
   "metadata": {},
   "source": [
    "### Boosting"
   ]
  },
  {
   "cell_type": "code",
   "execution_count": 92,
   "id": "3a781b9d",
   "metadata": {},
   "outputs": [],
   "source": [
    "# Define parameter grids for Grid Search \n",
    "param_grid = {\n",
    "    'n_estimators': [10, 20, 50, 100, 500],\n",
    "    'learning_rate': [0.001, 0.1, 1.0]\n",
    "}"
   ]
  },
  {
   "cell_type": "code",
   "execution_count": 79,
   "id": "9eb37087",
   "metadata": {},
   "outputs": [
    {
     "name": "stdout",
     "output_type": "stream",
     "text": [
      "\n",
      "Best hyperparameters for AdaBoost Classifier (Grid Search):\n",
      "{'n_estimators': 50, 'learning_rate': 1.0}\n",
      "--------------------------------------------------------------------------\n",
      "Boosting Classifier Grid Search Accuracy: 72.10%\n"
     ]
    }
   ],
   "source": [
    "# Create an instance\n",
    "adaboost_clf = AdaBoostClassifier()\n",
    "\n",
    "# Perform hyperparameter tuning using Grid Search\n",
    "best_adaboost_model_gs = grid_search_tuning(adaboost_clf, param_grid, X_train, y_train)\n",
    "\n",
    "# Print best hyperparameters for Grid Search\n",
    "print(\"\\nBest hyperparameters for AdaBoost Classifier (Grid Search):\")\n",
    "print(best_adaboost_model_gs.get_params())\n",
    "print(\"--------------------------------------------------------------------------\")\n",
    "\n",
    "adaboost_accuracy_gs = evaluate_model(best_adaboost_model_gs, X_valid, y_valid)\n",
    "print(f\"Boosting Classifier Grid Search Accuracy: {adaboost_accuracy_gs:.2%}\")"
   ]
  },
  {
   "cell_type": "markdown",
   "id": "300b6ed4",
   "metadata": {},
   "source": [
    "### Random Forest"
   ]
  },
  {
   "cell_type": "code",
   "execution_count": 93,
   "id": "5eea08e3",
   "metadata": {},
   "outputs": [],
   "source": [
    "param_grid = {\n",
    "    'n_estimators': [500, 600],\n",
    "    'max_depth': [20, 30, 40, 50],\n",
    "    'min_samples_split': [2, 5, 10],\n",
    "    'min_samples_leaf': [1, 2, 4]\n",
    "}"
   ]
  },
  {
   "cell_type": "code",
   "execution_count": 94,
   "id": "7cd33830",
   "metadata": {},
   "outputs": [
    {
     "name": "stdout",
     "output_type": "stream",
     "text": [
      "\n",
      "Best hyperparameters for Random Forest Classifier (Grid Search):\n",
      "{'n_estimators': 600, 'max_features': 'auto', 'min_samples_split': 15, 'min_samples_leaf': 1, 'max_depth': 40}\n",
      "--------------------------------------------------------------------------\n",
      "Random Forest Classifier Grid Search Accuracy: 77.96%\n"
     ]
    }
   ],
   "source": [
    "randomforest_clf = RandomForestClassifier()\n",
    "\n",
    "best_randomforest_model_gs = grid_search_tuning(randomforest_clf, param_grid, X_train, y_train)\n",
    "\n",
    "\n",
    "print(\"\\nBest hyperparameters for Random Forest Classifier (Grid Search):\")\n",
    "print(best_randomforest_model_gs.get_params())\n",
    "print(\"--------------------------------------------------------------------------\")\n",
    "\n",
    "randomforest_accuracy_gs = evaluate_model(best_randomforest_model_gs, X_valid, y_valid)\n",
    "print(f\"Random Forest Classifier Grid Search Accuracy: {randomforest_accuracy_gs:.2%}\")"
   ]
  },
  {
   "cell_type": "markdown",
   "id": "566ae038",
   "metadata": {},
   "source": [
    "## Randomized Search"
   ]
  },
  {
   "cell_type": "code",
   "execution_count": 108,
   "id": "63950855",
   "metadata": {},
   "outputs": [],
   "source": [
    "def randomized_search_tuning(model, param_distributions, X_train, y_train):\n",
    "    scoring = make_scorer(accuracy_score)  # Use accuracy as the scoring metric\n",
    "    randomized_search = RandomizedSearchCV(model, param_distributions, n_iter=1, cv=5, n_jobs=-1, random_state=42, scoring=scoring)\n",
    "    randomized_search.fit(X_train, y_train)\n",
    "    return randomized_search.best_estimator_"
   ]
  },
  {
   "cell_type": "markdown",
   "id": "80915cc8",
   "metadata": {},
   "source": [
    "### Bagging"
   ]
  },
  {
   "cell_type": "code",
   "execution_count": 15,
   "id": "d1e4e5f8",
   "metadata": {},
   "outputs": [],
   "source": [
    "param_distributions = {\n",
    "    'n_estimators': [50, 100, 200, 500],\n",
    "    'max_features': [0.5, 0.7, 0.9],\n",
    "    'max_depth': [None, 10, 20]\n",
    "}"
   ]
  },
  {
   "cell_type": "code",
   "execution_count": 16,
   "id": "7e420850",
   "metadata": {},
   "outputs": [
    {
     "name": "stdout",
     "output_type": "stream",
     "text": [
      "\n",
      "Best hyperparameters for Bagging Classifier (Randomized Search):\n",
      "{'n_estimators': 500, 'max_features': 0.9, 'max_depth': 20}\n",
      "--------------------------------------------------------------------------\n",
      "Bagging Classifier Randomized Search Accuracy: 77.89%\n"
     ]
    }
   ],
   "source": [
    "best_bagging_model_rs = randomized_search_tuning(bagging_clf, param_distributions, X_train, y_train)\n",
    "\n",
    "print(\"\\nBest hyperparameters for Bagging Classifier (Randomized Search):\")\n",
    "print(best_bagging_model_rs.get_params())\n",
    "print(\"--------------------------------------------------------------------------\")\n",
    "\n",
    "bagging_accuracy_rs = evaluate_model(best_bagging_model_rs, X_valid, y_valid)\n",
    "print(f\"Bagging Classifier Randomized Search Accuracy: {bagging_accuracy_rs:.2%}\")"
   ]
  },
  {
   "cell_type": "markdown",
   "id": "ef07b7fb",
   "metadata": {},
   "source": [
    "### Boosting"
   ]
  },
  {
   "cell_type": "code",
   "execution_count": 216,
   "id": "dc7f0e94",
   "metadata": {},
   "outputs": [],
   "source": [
    "param_distributions = {\n",
    "    'n_estimators': [20, 100, 250, 500],\n",
    "    'learning_rate': [1.0]\n",
    "}"
   ]
  },
  {
   "cell_type": "code",
   "execution_count": 217,
   "id": "c0a0ec99",
   "metadata": {},
   "outputs": [
    {
     "name": "stdout",
     "output_type": "stream",
     "text": [
      "\n",
      "Best hyperparameters for AdaBoost Classifier (Randomized Search):\n",
      "{'n_estimators': 20, 'learning_rate': 1.0}\n",
      "--------------------------------------------------------------------------\n",
      "Boosting Classifier Randomized Search Accuracy: 74.78%\n"
     ]
    }
   ],
   "source": [
    "best_adaboost_model_rs = randomized_search_tuning(adaboost_clf, param_distributions, X_train, y_train)\n",
    "\n",
    "print(\"\\nBest hyperparameters for AdaBoost Classifier (Randomized Search):\")\n",
    "print(best_adaboost_model_rs.get_params())\n",
    "print(\"--------------------------------------------------------------------------\")\n",
    "\n",
    "adaboost_accuracy_rs = evaluate_model(best_adaboost_model_rs, X_valid, y_valid)\n",
    "print(f\"Boosting Classifier Randomized Search Accuracy: {adaboost_accuracy_rs:.2%}\")"
   ]
  },
  {
   "cell_type": "markdown",
   "id": "97c6da99",
   "metadata": {},
   "source": [
    "### Random Forest"
   ]
  },
  {
   "cell_type": "code",
   "execution_count": 109,
   "id": "c2e47397",
   "metadata": {},
   "outputs": [],
   "source": [
    "param_grid = {\n",
    "    'n_estimators': [600,800],\n",
    "    'max_depth': [50],\n",
    "    'min_samples_split': [20],\n",
    "    'min_samples_leaf': [1]\n",
    "}"
   ]
  },
  {
   "cell_type": "code",
   "execution_count": 110,
   "id": "164fd5d0",
   "metadata": {},
   "outputs": [
    {
     "name": "stdout",
     "output_type": "stream",
     "text": [
      "\n",
      "Best hyperparameters for Random Forest Classifier (Randomized Search):\n",
      "{'n_estimators': 500, 'max_features': 0.9, 'min_samples_split': 10, 'min_samples_leaf': 1, 'max_depth': 20}\n",
      "--------------------------------------------------------------------------\n",
      "Random Forest Classifier Randomized Search Accuracy: 77.78%\n"
     ]
    }
   ],
   "source": [
    "best_randomforest_model_rs = randomized_search_tuning(randomforest_clf, param_distributions, X_train, y_train)\n",
    "\n",
    "print(\"\\nBest hyperparameters for Random Forest Classifier (Randomized Search):\")\n",
    "print(best_randomforest_model_rs.get_params())\n",
    "print(\"--------------------------------------------------------------------------\")\n",
    "\n",
    "randomforest_accuracy_rs = evaluate_model(best_randomforest_model_rs, X_valid, y_valid)\n",
    "print(f\"Random Forest Classifier Randomized Search Accuracy: {randomforest_accuracy_rs:.2%}\")"
   ]
  },
  {
   "cell_type": "markdown",
   "id": "1bb77685",
   "metadata": {},
   "source": [
    "## Bayesian method"
   ]
  },
  {
   "cell_type": "code",
   "execution_count": 251,
   "id": "f13d4da6",
   "metadata": {},
   "outputs": [],
   "source": [
    "def bayesian_optimization_tuning(model, search_space, X_train, y_train):\n",
    "    bayes_search = BayesSearchCV(\n",
    "        model,\n",
    "        search_space,\n",
    "        n_iter=100,\n",
    "        cv=5,\n",
    "        random_state=42,\n",
    "        n_jobs=-1,\n",
    "        scoring='accuracy'  \n",
    "    )\n",
    "    bayes_search.fit(X_train, y_train)\n",
    "    return bayes_search.best_estimator_, bayes_search.best_params_"
   ]
  },
  {
   "cell_type": "markdown",
   "id": "027addda",
   "metadata": {},
   "source": [
    "### Bagging"
   ]
  },
  {
   "cell_type": "code",
   "execution_count": 240,
   "id": "5e0dfab2",
   "metadata": {},
   "outputs": [],
   "source": [
    "search_space = {\n",
    "    'n_estimators': [50, 100, 200, 500],\n",
    "    'max_features': [0.5, 0.7, 0.9],\n",
    "    'max_depth': [5, 10, 20]\n",
    "}"
   ]
  },
  {
   "cell_type": "code",
   "execution_count": 241,
   "id": "668b1d2a",
   "metadata": {},
   "outputs": [
    {
     "name": "stderr",
     "output_type": "stream",
     "text": [
      "C:\\Users\\User\\anaconda3\\lib\\site-packages\\skopt\\optimizer\\optimizer.py:449: UserWarning: The objective has been evaluated at this point before.\n",
      "  warnings.warn(\"The objective has been evaluated \"\n",
      "C:\\Users\\User\\anaconda3\\lib\\site-packages\\skopt\\optimizer\\optimizer.py:449: UserWarning: The objective has been evaluated at this point before.\n",
      "  warnings.warn(\"The objective has been evaluated \"\n",
      "C:\\Users\\User\\anaconda3\\lib\\site-packages\\skopt\\optimizer\\optimizer.py:449: UserWarning: The objective has been evaluated at this point before.\n",
      "  warnings.warn(\"The objective has been evaluated \"\n",
      "C:\\Users\\User\\anaconda3\\lib\\site-packages\\skopt\\optimizer\\optimizer.py:449: UserWarning: The objective has been evaluated at this point before.\n",
      "  warnings.warn(\"The objective has been evaluated \"\n",
      "C:\\Users\\User\\anaconda3\\lib\\site-packages\\skopt\\optimizer\\optimizer.py:449: UserWarning: The objective has been evaluated at this point before.\n",
      "  warnings.warn(\"The objective has been evaluated \"\n",
      "C:\\Users\\User\\anaconda3\\lib\\site-packages\\skopt\\optimizer\\optimizer.py:449: UserWarning: The objective has been evaluated at this point before.\n",
      "  warnings.warn(\"The objective has been evaluated \"\n",
      "C:\\Users\\User\\anaconda3\\lib\\site-packages\\skopt\\optimizer\\optimizer.py:449: UserWarning: The objective has been evaluated at this point before.\n",
      "  warnings.warn(\"The objective has been evaluated \"\n",
      "C:\\Users\\User\\anaconda3\\lib\\site-packages\\skopt\\optimizer\\optimizer.py:449: UserWarning: The objective has been evaluated at this point before.\n",
      "  warnings.warn(\"The objective has been evaluated \"\n",
      "C:\\Users\\User\\anaconda3\\lib\\site-packages\\skopt\\optimizer\\optimizer.py:449: UserWarning: The objective has been evaluated at this point before.\n",
      "  warnings.warn(\"The objective has been evaluated \"\n",
      "C:\\Users\\User\\anaconda3\\lib\\site-packages\\skopt\\optimizer\\optimizer.py:449: UserWarning: The objective has been evaluated at this point before.\n",
      "  warnings.warn(\"The objective has been evaluated \"\n",
      "C:\\Users\\User\\anaconda3\\lib\\site-packages\\skopt\\optimizer\\optimizer.py:449: UserWarning: The objective has been evaluated at this point before.\n",
      "  warnings.warn(\"The objective has been evaluated \"\n",
      "C:\\Users\\User\\anaconda3\\lib\\site-packages\\skopt\\optimizer\\optimizer.py:449: UserWarning: The objective has been evaluated at this point before.\n",
      "  warnings.warn(\"The objective has been evaluated \"\n",
      "C:\\Users\\User\\anaconda3\\lib\\site-packages\\skopt\\optimizer\\optimizer.py:449: UserWarning: The objective has been evaluated at this point before.\n",
      "  warnings.warn(\"The objective has been evaluated \"\n",
      "C:\\Users\\User\\anaconda3\\lib\\site-packages\\skopt\\optimizer\\optimizer.py:449: UserWarning: The objective has been evaluated at this point before.\n",
      "  warnings.warn(\"The objective has been evaluated \"\n",
      "C:\\Users\\User\\anaconda3\\lib\\site-packages\\skopt\\optimizer\\optimizer.py:449: UserWarning: The objective has been evaluated at this point before.\n",
      "  warnings.warn(\"The objective has been evaluated \"\n",
      "C:\\Users\\User\\anaconda3\\lib\\site-packages\\skopt\\optimizer\\optimizer.py:449: UserWarning: The objective has been evaluated at this point before.\n",
      "  warnings.warn(\"The objective has been evaluated \"\n",
      "C:\\Users\\User\\anaconda3\\lib\\site-packages\\skopt\\optimizer\\optimizer.py:449: UserWarning: The objective has been evaluated at this point before.\n",
      "  warnings.warn(\"The objective has been evaluated \"\n",
      "C:\\Users\\User\\anaconda3\\lib\\site-packages\\skopt\\optimizer\\optimizer.py:449: UserWarning: The objective has been evaluated at this point before.\n",
      "  warnings.warn(\"The objective has been evaluated \"\n",
      "C:\\Users\\User\\anaconda3\\lib\\site-packages\\skopt\\optimizer\\optimizer.py:449: UserWarning: The objective has been evaluated at this point before.\n",
      "  warnings.warn(\"The objective has been evaluated \"\n",
      "C:\\Users\\User\\anaconda3\\lib\\site-packages\\skopt\\optimizer\\optimizer.py:449: UserWarning: The objective has been evaluated at this point before.\n",
      "  warnings.warn(\"The objective has been evaluated \"\n",
      "C:\\Users\\User\\anaconda3\\lib\\site-packages\\skopt\\optimizer\\optimizer.py:449: UserWarning: The objective has been evaluated at this point before.\n",
      "  warnings.warn(\"The objective has been evaluated \"\n",
      "C:\\Users\\User\\anaconda3\\lib\\site-packages\\skopt\\optimizer\\optimizer.py:449: UserWarning: The objective has been evaluated at this point before.\n",
      "  warnings.warn(\"The objective has been evaluated \"\n",
      "C:\\Users\\User\\anaconda3\\lib\\site-packages\\skopt\\optimizer\\optimizer.py:449: UserWarning: The objective has been evaluated at this point before.\n",
      "  warnings.warn(\"The objective has been evaluated \"\n",
      "C:\\Users\\User\\anaconda3\\lib\\site-packages\\skopt\\optimizer\\optimizer.py:449: UserWarning: The objective has been evaluated at this point before.\n",
      "  warnings.warn(\"The objective has been evaluated \"\n",
      "C:\\Users\\User\\anaconda3\\lib\\site-packages\\skopt\\optimizer\\optimizer.py:449: UserWarning: The objective has been evaluated at this point before.\n",
      "  warnings.warn(\"The objective has been evaluated \"\n",
      "C:\\Users\\User\\anaconda3\\lib\\site-packages\\skopt\\optimizer\\optimizer.py:449: UserWarning: The objective has been evaluated at this point before.\n",
      "  warnings.warn(\"The objective has been evaluated \"\n",
      "C:\\Users\\User\\anaconda3\\lib\\site-packages\\skopt\\optimizer\\optimizer.py:449: UserWarning: The objective has been evaluated at this point before.\n",
      "  warnings.warn(\"The objective has been evaluated \"\n",
      "C:\\Users\\User\\anaconda3\\lib\\site-packages\\skopt\\optimizer\\optimizer.py:449: UserWarning: The objective has been evaluated at this point before.\n",
      "  warnings.warn(\"The objective has been evaluated \"\n",
      "C:\\Users\\User\\anaconda3\\lib\\site-packages\\skopt\\optimizer\\optimizer.py:449: UserWarning: The objective has been evaluated at this point before.\n",
      "  warnings.warn(\"The objective has been evaluated \"\n",
      "C:\\Users\\User\\anaconda3\\lib\\site-packages\\skopt\\optimizer\\optimizer.py:449: UserWarning: The objective has been evaluated at this point before.\n",
      "  warnings.warn(\"The objective has been evaluated \"\n",
      "C:\\Users\\User\\anaconda3\\lib\\site-packages\\skopt\\optimizer\\optimizer.py:449: UserWarning: The objective has been evaluated at this point before.\n",
      "  warnings.warn(\"The objective has been evaluated \"\n",
      "C:\\Users\\User\\anaconda3\\lib\\site-packages\\skopt\\optimizer\\optimizer.py:449: UserWarning: The objective has been evaluated at this point before.\n",
      "  warnings.warn(\"The objective has been evaluated \"\n",
      "C:\\Users\\User\\anaconda3\\lib\\site-packages\\skopt\\optimizer\\optimizer.py:449: UserWarning: The objective has been evaluated at this point before.\n",
      "  warnings.warn(\"The objective has been evaluated \"\n",
      "C:\\Users\\User\\anaconda3\\lib\\site-packages\\skopt\\optimizer\\optimizer.py:449: UserWarning: The objective has been evaluated at this point before.\n",
      "  warnings.warn(\"The objective has been evaluated \"\n",
      "C:\\Users\\User\\anaconda3\\lib\\site-packages\\skopt\\optimizer\\optimizer.py:449: UserWarning: The objective has been evaluated at this point before.\n",
      "  warnings.warn(\"The objective has been evaluated \"\n",
      "C:\\Users\\User\\anaconda3\\lib\\site-packages\\skopt\\optimizer\\optimizer.py:449: UserWarning: The objective has been evaluated at this point before.\n",
      "  warnings.warn(\"The objective has been evaluated \"\n",
      "C:\\Users\\User\\anaconda3\\lib\\site-packages\\skopt\\optimizer\\optimizer.py:449: UserWarning: The objective has been evaluated at this point before.\n",
      "  warnings.warn(\"The objective has been evaluated \"\n",
      "C:\\Users\\User\\anaconda3\\lib\\site-packages\\skopt\\optimizer\\optimizer.py:449: UserWarning: The objective has been evaluated at this point before.\n",
      "  warnings.warn(\"The objective has been evaluated \"\n",
      "C:\\Users\\User\\anaconda3\\lib\\site-packages\\skopt\\optimizer\\optimizer.py:449: UserWarning: The objective has been evaluated at this point before.\n",
      "  warnings.warn(\"The objective has been evaluated \"\n",
      "C:\\Users\\User\\anaconda3\\lib\\site-packages\\skopt\\optimizer\\optimizer.py:449: UserWarning: The objective has been evaluated at this point before.\n",
      "  warnings.warn(\"The objective has been evaluated \"\n",
      "C:\\Users\\User\\anaconda3\\lib\\site-packages\\skopt\\optimizer\\optimizer.py:449: UserWarning: The objective has been evaluated at this point before.\n",
      "  warnings.warn(\"The objective has been evaluated \"\n",
      "C:\\Users\\User\\anaconda3\\lib\\site-packages\\skopt\\optimizer\\optimizer.py:449: UserWarning: The objective has been evaluated at this point before.\n",
      "  warnings.warn(\"The objective has been evaluated \"\n"
     ]
    },
    {
     "name": "stderr",
     "output_type": "stream",
     "text": [
      "C:\\Users\\User\\anaconda3\\lib\\site-packages\\skopt\\optimizer\\optimizer.py:449: UserWarning: The objective has been evaluated at this point before.\n",
      "  warnings.warn(\"The objective has been evaluated \"\n",
      "C:\\Users\\User\\anaconda3\\lib\\site-packages\\skopt\\optimizer\\optimizer.py:449: UserWarning: The objective has been evaluated at this point before.\n",
      "  warnings.warn(\"The objective has been evaluated \"\n",
      "C:\\Users\\User\\anaconda3\\lib\\site-packages\\skopt\\optimizer\\optimizer.py:449: UserWarning: The objective has been evaluated at this point before.\n",
      "  warnings.warn(\"The objective has been evaluated \"\n",
      "C:\\Users\\User\\anaconda3\\lib\\site-packages\\skopt\\optimizer\\optimizer.py:449: UserWarning: The objective has been evaluated at this point before.\n",
      "  warnings.warn(\"The objective has been evaluated \"\n",
      "C:\\Users\\User\\anaconda3\\lib\\site-packages\\skopt\\optimizer\\optimizer.py:449: UserWarning: The objective has been evaluated at this point before.\n",
      "  warnings.warn(\"The objective has been evaluated \"\n",
      "C:\\Users\\User\\anaconda3\\lib\\site-packages\\skopt\\optimizer\\optimizer.py:449: UserWarning: The objective has been evaluated at this point before.\n",
      "  warnings.warn(\"The objective has been evaluated \"\n",
      "C:\\Users\\User\\anaconda3\\lib\\site-packages\\skopt\\optimizer\\optimizer.py:449: UserWarning: The objective has been evaluated at this point before.\n",
      "  warnings.warn(\"The objective has been evaluated \"\n",
      "C:\\Users\\User\\anaconda3\\lib\\site-packages\\skopt\\optimizer\\optimizer.py:449: UserWarning: The objective has been evaluated at this point before.\n",
      "  warnings.warn(\"The objective has been evaluated \"\n",
      "C:\\Users\\User\\anaconda3\\lib\\site-packages\\skopt\\optimizer\\optimizer.py:449: UserWarning: The objective has been evaluated at this point before.\n",
      "  warnings.warn(\"The objective has been evaluated \"\n",
      "C:\\Users\\User\\anaconda3\\lib\\site-packages\\skopt\\optimizer\\optimizer.py:449: UserWarning: The objective has been evaluated at this point before.\n",
      "  warnings.warn(\"The objective has been evaluated \"\n",
      "C:\\Users\\User\\anaconda3\\lib\\site-packages\\skopt\\optimizer\\optimizer.py:449: UserWarning: The objective has been evaluated at this point before.\n",
      "  warnings.warn(\"The objective has been evaluated \"\n",
      "C:\\Users\\User\\anaconda3\\lib\\site-packages\\skopt\\optimizer\\optimizer.py:449: UserWarning: The objective has been evaluated at this point before.\n",
      "  warnings.warn(\"The objective has been evaluated \"\n",
      "C:\\Users\\User\\anaconda3\\lib\\site-packages\\skopt\\optimizer\\optimizer.py:449: UserWarning: The objective has been evaluated at this point before.\n",
      "  warnings.warn(\"The objective has been evaluated \"\n",
      "C:\\Users\\User\\anaconda3\\lib\\site-packages\\skopt\\optimizer\\optimizer.py:449: UserWarning: The objective has been evaluated at this point before.\n",
      "  warnings.warn(\"The objective has been evaluated \"\n",
      "C:\\Users\\User\\anaconda3\\lib\\site-packages\\skopt\\optimizer\\optimizer.py:449: UserWarning: The objective has been evaluated at this point before.\n",
      "  warnings.warn(\"The objective has been evaluated \"\n",
      "C:\\Users\\User\\anaconda3\\lib\\site-packages\\skopt\\optimizer\\optimizer.py:449: UserWarning: The objective has been evaluated at this point before.\n",
      "  warnings.warn(\"The objective has been evaluated \"\n",
      "C:\\Users\\User\\anaconda3\\lib\\site-packages\\skopt\\optimizer\\optimizer.py:449: UserWarning: The objective has been evaluated at this point before.\n",
      "  warnings.warn(\"The objective has been evaluated \"\n",
      "C:\\Users\\User\\anaconda3\\lib\\site-packages\\skopt\\optimizer\\optimizer.py:449: UserWarning: The objective has been evaluated at this point before.\n",
      "  warnings.warn(\"The objective has been evaluated \"\n",
      "C:\\Users\\User\\anaconda3\\lib\\site-packages\\skopt\\optimizer\\optimizer.py:449: UserWarning: The objective has been evaluated at this point before.\n",
      "  warnings.warn(\"The objective has been evaluated \"\n",
      "C:\\Users\\User\\anaconda3\\lib\\site-packages\\skopt\\optimizer\\optimizer.py:449: UserWarning: The objective has been evaluated at this point before.\n",
      "  warnings.warn(\"The objective has been evaluated \"\n",
      "C:\\Users\\User\\anaconda3\\lib\\site-packages\\skopt\\optimizer\\optimizer.py:449: UserWarning: The objective has been evaluated at this point before.\n",
      "  warnings.warn(\"The objective has been evaluated \"\n",
      "C:\\Users\\User\\anaconda3\\lib\\site-packages\\skopt\\optimizer\\optimizer.py:449: UserWarning: The objective has been evaluated at this point before.\n",
      "  warnings.warn(\"The objective has been evaluated \"\n",
      "C:\\Users\\User\\anaconda3\\lib\\site-packages\\skopt\\optimizer\\optimizer.py:449: UserWarning: The objective has been evaluated at this point before.\n",
      "  warnings.warn(\"The objective has been evaluated \"\n",
      "C:\\Users\\User\\anaconda3\\lib\\site-packages\\skopt\\optimizer\\optimizer.py:449: UserWarning: The objective has been evaluated at this point before.\n",
      "  warnings.warn(\"The objective has been evaluated \"\n",
      "C:\\Users\\User\\anaconda3\\lib\\site-packages\\skopt\\optimizer\\optimizer.py:449: UserWarning: The objective has been evaluated at this point before.\n",
      "  warnings.warn(\"The objective has been evaluated \"\n",
      "C:\\Users\\User\\anaconda3\\lib\\site-packages\\skopt\\optimizer\\optimizer.py:449: UserWarning: The objective has been evaluated at this point before.\n",
      "  warnings.warn(\"The objective has been evaluated \"\n",
      "C:\\Users\\User\\anaconda3\\lib\\site-packages\\skopt\\optimizer\\optimizer.py:449: UserWarning: The objective has been evaluated at this point before.\n",
      "  warnings.warn(\"The objective has been evaluated \"\n"
     ]
    },
    {
     "name": "stdout",
     "output_type": "stream",
     "text": [
      "Best parameters for Bagging Classifier:\n",
      "OrderedDict([('max_depth', 20), ('max_features', 0.7), ('n_estimators', 500)])\n",
      "-------------------------------------------------------\n",
      "Bagging Classifier Bayesian Optimization Accuracy: 76.64141909658177 %\n"
     ]
    }
   ],
   "source": [
    "# Create an instance of BaggingClassifier\n",
    "bagging_clf = BaggingClassifier()\n",
    "\n",
    "# Perform hyperparameter tuning using Bayesian optimization\n",
    "best_bagging_model_bo, best_bagging_params = bayesian_optimization_tuning(bagging_clf, search_space, X_train, y_train)\n",
    "\n",
    "# Print the best parameters found for Bagging Classifier\n",
    "print(\"Best parameters for Bagging Classifier:\")\n",
    "print(best_bagging_params)\n",
    "print(\"-------------------------------------------------------\")\n",
    "\n",
    "bagging_accuracy_bo = evaluate_model(best_bagging_model_bo, X_valid, y_valid)\n",
    "print(\"Bagging Classifier Bayesian Optimization Accuracy:\", bagging_accuracy_bo * 100, \"%\")"
   ]
  },
  {
   "cell_type": "markdown",
   "id": "fca95e73",
   "metadata": {},
   "source": [
    "### Boosting"
   ]
  },
  {
   "cell_type": "code",
   "execution_count": 252,
   "id": "227f1cd6",
   "metadata": {},
   "outputs": [],
   "source": [
    "search_space = {\n",
    "    'n_estimators': [20, 100, 250, 500],\n",
    "    'learning_rate': [0.01, 1.0]\n",
    "}"
   ]
  },
  {
   "cell_type": "code",
   "execution_count": 253,
   "id": "6a27522a",
   "metadata": {},
   "outputs": [
    {
     "name": "stdout",
     "output_type": "stream",
     "text": [
      "Best parameters for AdaBoost Classifier:\n",
      "OrderedDict([('learning_rate', 1.0), ('n_estimators', 20)])\n",
      "-------------------------------------------------------\n",
      "AdaBoost Classifier Bayesian Optimization Accuracy: 74.77728503590912 %\n"
     ]
    }
   ],
   "source": [
    "# Create an instance of AdaBoostClassifier\n",
    "adaboost_clf = AdaBoostClassifier()\n",
    "\n",
    "# Perform hyperparameter tuning using Bayesian optimization\n",
    "best_adaboost_model_bo, best_adaboost_params = bayesian_optimization_tuning(adaboost_clf, search_space, X_train, y_train)\n",
    "\n",
    "# Print the best parameters found for AdaBoost Classifier\n",
    "print(\"Best parameters for AdaBoost Classifier:\")\n",
    "print(best_adaboost_params)\n",
    "print(\"-------------------------------------------------------\")\n",
    "\n",
    "adaboost_accuracy_bo = evaluate_model(best_adaboost_model_bo, X_valid, y_valid)\n",
    "print(\"AdaBoost Classifier Bayesian Optimization Accuracy:\", adaboost_accuracy_bo * 100, \"%\")"
   ]
  },
  {
   "cell_type": "markdown",
   "id": "0b663c87",
   "metadata": {},
   "source": [
    "### Random Forest"
   ]
  },
  {
   "cell_type": "code",
   "execution_count": 261,
   "id": "48ff6d19",
   "metadata": {},
   "outputs": [],
   "source": [
    "search_space = {\n",
    "    'n_estimators': [400, 500, 600],\n",
    "    'max_depth': [20, 30, 40, 50],\n",
    "    'min_samples_split': [2, 5, 10],\n",
    "    'min_samples_leaf': [1, 2, 4]\n",
    "}"
   ]
  },
  {
   "cell_type": "code",
   "execution_count": 263,
   "id": "ee8b38f5",
   "metadata": {},
   "outputs": [
    {
     "name": "stdout",
     "output_type": "stream",
     "text": [
      "Best parameters for Random Forest Classifier:\n",
      "OrderedDict([('max_depth', 50), ('min_samples_leaf', 1), ('min_samples_split', 10), ('n_estimators', 500)])\n",
      "-------------------------------------------------------\n",
      "Random Forest Classifier Bayesian Optimization Accuracy: 76.25289431341 %\n"
     ]
    }
   ],
   "source": [
    "# Create an instance of RandomForestClassifier\n",
    "randomforest_clf = RandomForestClassifier()\n",
    "\n",
    "# Perform hyperparameter tuning using Bayesian optimization\n",
    "best_randomforest_model_bo, best_randomforest_params = bayesian_optimization_tuning(randomforest_clf, search_space, X_train, y_train)\n",
    "\n",
    "# Print the best parameters found for Random Forest Classifier\n",
    "print(\"Best parameters for Random Forest Classifier:\")\n",
    "print(best_randomforest_params)\n",
    "print(\"-------------------------------------------------------\")\n",
    "\n",
    "randomforest_accuracy_bo = evaluate_model(best_randomforest_model_bo, X_valid, y_valid)\n",
    "print(\"Random Forest Classifier Bayesian Optimization Accuracy:\", randomforest_accuracy_bo*100, \"%\")"
   ]
  },
  {
   "cell_type": "markdown",
   "id": "133a0978",
   "metadata": {},
   "source": [
    "# Final System"
   ]
  },
  {
   "cell_type": "code",
   "execution_count": 111,
   "id": "bdd520b4",
   "metadata": {},
   "outputs": [
    {
     "name": "stdout",
     "output_type": "stream",
     "text": [
      "-----------------------------------------------------------------------------\n",
      "The best model is Random Forest:\n",
      "{'n_estimators': 600, 'max_features': 'auto', 'min_samples_split': 15, 'min_samples_leaf': 1, 'max_depth': 40}\n",
      "Random Forest Classifier On test set Accuracy: 78.19%\n",
      "-----------------------------------------------------------------------------\n"
     ]
    }
   ],
   "source": [
    "print(\"-----------------------------------------------------------------------------\")\n",
    "print(f\"The best model is Random Forest:\")      \n",
    "print(best_randomforest_model_gs.get_params())\n",
    "\n",
    "randomforest_accuracy_gs = evaluate_model(best_randomforest_model_gs, X_test, y_test)\n",
    "print(f\"Random Forest Classifier On test set Accuracy: {randomforest_accuracy_gs:.2%}\")\n",
    "print(\"-----------------------------------------------------------------------------\")"
   ]
  }
 ],
 "metadata": {
  "kernelspec": {
   "display_name": "Python 3 (ipykernel)",
   "language": "python",
   "name": "python3"
  },
  "language_info": {
   "codemirror_mode": {
    "name": "ipython",
    "version": 3
   },
   "file_extension": ".py",
   "mimetype": "text/x-python",
   "name": "python",
   "nbconvert_exporter": "python",
   "pygments_lexer": "ipython3",
   "version": "3.9.12"
  }
 },
 "nbformat": 4,
 "nbformat_minor": 5
}
